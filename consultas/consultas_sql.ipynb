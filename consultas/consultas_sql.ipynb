{
  "cells": [
    {
      "cell_type": "markdown",
      "metadata": {
        "id": "PiccDjEr3kFz"
      },
      "source": [
        "## Parte do banco de dados"
      ]
    },
    {
      "cell_type": "code",
      "execution_count": null,
      "metadata": {},
      "outputs": [],
      "source": [
        "# Conectando ao banco de dados SQLite (criará um novo arquivo se não existir)\n",
        "import sqlite3\n",
        "\n",
        "conn = sqlite3.connect('eventos.db')\n",
        "conn = sqlite3.connect('dados_eventos.db')\n",
        "cursor = conn.cursor()"
      ]
    },
    {
      "cell_type": "markdown",
      "metadata": {
        "id": "XzO4eVEU1AV7"
      },
      "source": [
        "Consultas:"
      ]
    },
    {
      "cell_type": "code",
      "execution_count": null,
      "metadata": {
        "colab": {
          "base_uri": "https://localhost:8080/"
        },
        "id": "LD0psL4L0__1",
        "outputId": "7a67cbee-3558-48d6-8779-6e7f7063b0a7"
      },
      "outputs": [],
      "source": [
        "# Consulta 1: Mostrar todos os eventos com suas datas, localização e tipo de evento\n",
        "print(\"\\n--- Consulta 1: Todos os eventos com detalhes ---\")\n",
        "cursor.execute('''\n",
        "    SELECT Eventos.nome AS Evento, DadosEventos.data AS Data, DadosEventos.localizacao AS Localização, Eventos.tipo AS Tipo\n",
        "    FROM Eventos\n",
        "    INNER JOIN DadosEventos ON Eventos.id = DadosEventos.evento_id;\n",
        "''')\n",
        "resultados = cursor.fetchall()\n",
        "df_resultado1 = pd.DataFrame(resultados, columns=[coluna[0] for coluna in cursor.description])\n",
        "print(df_resultado1.to_markdown(index=False, numalign='left', stralign='left'))\n",
        "\n",
        "# Consulta 2: Mostrar os dados dos 2 eventos mais próximos de iniciar\n",
        "print(\"\\n--- Consulta 2: 2 eventos mais próximos de iniciar ---\")\n",
        "cursor.execute('''\n",
        "    SELECT Eventos.nome AS Evento, DadosEventos.data AS Data, DadosEventos.localizacao AS Localização, Eventos.tipo AS Tipo\n",
        "    FROM Eventos\n",
        "    INNER JOIN DadosEventos ON Eventos.id = DadosEventos.evento_id\n",
        "    ORDER BY DadosEventos.data ASC\n",
        "    LIMIT 2;\n",
        "''')\n",
        "resultados = cursor.fetchall()\n",
        "df_resultado2 = pd.DataFrame(resultados, columns=[coluna[0] for coluna in cursor.description])\n",
        "print(df_resultado2.to_markdown(index=False, numalign='left', stralign='left'))\n",
        "\n",
        "# Consulta 3: Mostrar os eventos que acontecem no Rio de Janeiro\n",
        "print(\"\\n--- Consulta 3: Eventos no Rio de Janeiro ---\")\n",
        "cursor.execute('''\n",
        "    SELECT Eventos.nome AS Evento, DadosEventos.data AS Data, DadosEventos.localizacao AS Localização, Eventos.tipo AS Tipo\n",
        "    FROM Eventos\n",
        "    INNER JOIN DadosEventos ON Eventos.id = DadosEventos.evento_id\n",
        "    WHERE DadosEventos.localizacao LIKE '%Rio de Janeiro%';\n",
        "''')\n",
        "resultados = cursor.fetchall()\n",
        "df_resultado3 = pd.DataFrame(resultados, columns=[coluna[0] for coluna in cursor.description])\n",
        "print(df_resultado3.to_markdown(index=False, numalign='left', stralign='left'))"
      ]
    },
    {
      "cell_type": "code",
      "execution_count": null,
      "metadata": {},
      "outputs": [],
      "source": [
        "# Fechando a conexão com o banco de dados\n",
        "conn.close()"
      ]
    }
  ],
  "metadata": {
    "colab": {
      "provenance": []
    },
    "kernelspec": {
      "display_name": "Python 3",
      "name": "python3"
    },
    "language_info": {
      "name": "python"
    }
  },
  "nbformat": 4,
  "nbformat_minor": 0
}
